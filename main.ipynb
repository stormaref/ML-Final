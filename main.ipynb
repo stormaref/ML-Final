{
 "cells": [
  {
   "cell_type": "markdown",
   "metadata": {},
   "source": [
    "# Imports"
   ]
  },
  {
   "cell_type": "code",
   "execution_count": 39,
   "metadata": {},
   "outputs": [],
   "source": [
    "import os\n",
    "import re\n",
    "import nltk\n",
    "import pandas as pd\n",
    "import torch\n",
    "import torch.nn as nn\n",
    "from nltk.corpus import stopwords\n",
    "from nltk.stem import PorterStemmer, WordNetLemmatizer\n",
    "from nltk.tokenize import word_tokenize\n",
    "from sklearn.model_selection import train_test_split, GridSearchCV\n",
    "from sklearn.feature_extraction.text import CountVectorizer, TfidfVectorizer\n",
    "from sklearn.ensemble import RandomForestClassifier\n",
    "from sklearn.neighbors import KNeighborsClassifier\n",
    "from sklearn.metrics import classification_report, confusion_matrix, ConfusionMatrixDisplay, f1_score, precision_score, make_scorer\n",
    "from torch.utils.data import Dataset\n",
    "from transformers import BertModel, BertTokenizer\n",
    "import matplotlib.pyplot as plt"
   ]
  },
  {
   "cell_type": "code",
   "execution_count": 4,
   "metadata": {},
   "outputs": [
    {
     "name": "stderr",
     "output_type": "stream",
     "text": [
      "[nltk_data] Downloading package punkt to /home/aref/nltk_data...\n",
      "[nltk_data]   Package punkt is already up-to-date!\n",
      "[nltk_data] Downloading package wordnet to /home/aref/nltk_data...\n",
      "[nltk_data]   Package wordnet is already up-to-date!\n",
      "[nltk_data] Downloading package stopwords to /home/aref/nltk_data...\n",
      "[nltk_data]   Package stopwords is already up-to-date!\n"
     ]
    },
    {
     "data": {
      "text/plain": [
       "True"
      ]
     },
     "execution_count": 4,
     "metadata": {},
     "output_type": "execute_result"
    }
   ],
   "source": [
    "nltk.download('punkt')\n",
    "nltk.download('wordnet')\n",
    "nltk.download('stopwords')"
   ]
  },
  {
   "cell_type": "markdown",
   "metadata": {},
   "source": [
    "# Preaparing Data"
   ]
  },
  {
   "cell_type": "markdown",
   "metadata": {},
   "source": [
    "## Reading"
   ]
  },
  {
   "cell_type": "markdown",
   "metadata": {},
   "source": [
    "### Gun violance"
   ]
  },
  {
   "cell_type": "code",
   "execution_count": 5,
   "metadata": {},
   "outputs": [],
   "source": [
    "gun_context_spam = pd.read_csv('dataset/gun-violence/context-spam/published_data_spam-MLJ-2022_gun-violence_context-spam_context_spam_5000_no_link.csv')\n",
    "gun_not_context_spam = pd.read_csv('dataset/gun-violence/context-spam/published_data_spam-MLJ-2022_gun-violence_context-spam_not_context_spam_5000_no_link.csv')\n",
    "gun_context_spam.drop(['tweet_id'], axis=1, inplace=True)\n",
    "gun_not_context_spam.drop(['tweet_id'], axis=1, inplace=True)\n",
    "gun = pd.concat([gun_context_spam, gun_not_context_spam])\n",
    "gun.reset_index(drop=True, inplace=True)"
   ]
  },
  {
   "cell_type": "code",
   "execution_count": 6,
   "metadata": {},
   "outputs": [
    {
     "data": {
      "text/html": [
       "<div>\n",
       "<style scoped>\n",
       "    .dataframe tbody tr th:only-of-type {\n",
       "        vertical-align: middle;\n",
       "    }\n",
       "\n",
       "    .dataframe tbody tr th {\n",
       "        vertical-align: top;\n",
       "    }\n",
       "\n",
       "    .dataframe thead th {\n",
       "        text-align: right;\n",
       "    }\n",
       "</style>\n",
       "<table border=\"1\" class=\"dataframe\">\n",
       "  <thead>\n",
       "    <tr style=\"text-align: right;\">\n",
       "      <th></th>\n",
       "      <th>text</th>\n",
       "      <th>label</th>\n",
       "    </tr>\n",
       "  </thead>\n",
       "  <tbody>\n",
       "    <tr>\n",
       "      <th>0</th>\n",
       "      <td>Stack-On PDS-1500 Gun Safe &lt;em&gt;URL01 Removed&lt;/...</td>\n",
       "      <td>1</td>\n",
       "    </tr>\n",
       "    <tr>\n",
       "      <th>1</th>\n",
       "      <td>#protection #safe Buy Now and be Safe &lt;em&gt;URL0...</td>\n",
       "      <td>1</td>\n",
       "    </tr>\n",
       "    <tr>\n",
       "      <th>2</th>\n",
       "      <td>I'm in the running to win the PolyCase - CZ P-...</td>\n",
       "      <td>1</td>\n",
       "    </tr>\n",
       "    <tr>\n",
       "      <th>3</th>\n",
       "      <td>ZEV Technologies Prizefighter, a cheap Agency ...</td>\n",
       "      <td>1</td>\n",
       "    </tr>\n",
       "    <tr>\n",
       "      <th>4</th>\n",
       "      <td>I'm in the running to win a Springfield 1911 P...</td>\n",
       "      <td>1</td>\n",
       "    </tr>\n",
       "    <tr>\n",
       "      <th>...</th>\n",
       "      <td>...</td>\n",
       "      <td>...</td>\n",
       "    </tr>\n",
       "    <tr>\n",
       "      <th>4995</th>\n",
       "      <td>Sai Baba! Sai Buhari! \"Dead men are getting ap...</td>\n",
       "      <td>0</td>\n",
       "    </tr>\n",
       "    <tr>\n",
       "      <th>4996</th>\n",
       "      <td>Alpha Krav Maga CT Pistol retention while firi...</td>\n",
       "      <td>0</td>\n",
       "    </tr>\n",
       "    <tr>\n",
       "      <th>4997</th>\n",
       "      <td>@USER01 “Uhm...Well...I’ll just be straightfor...</td>\n",
       "      <td>0</td>\n",
       "    </tr>\n",
       "    <tr>\n",
       "      <th>4998</th>\n",
       "      <td>The 2nd Amendment states it it PLAIN LANGUAGE ...</td>\n",
       "      <td>0</td>\n",
       "    </tr>\n",
       "    <tr>\n",
       "      <th>4999</th>\n",
       "      <td>New King of Concealed Carry? #springfieldarmor...</td>\n",
       "      <td>0</td>\n",
       "    </tr>\n",
       "  </tbody>\n",
       "</table>\n",
       "<p>5000 rows × 2 columns</p>\n",
       "</div>"
      ],
      "text/plain": [
       "                                                   text  label\n",
       "0     Stack-On PDS-1500 Gun Safe <em>URL01 Removed</...      1\n",
       "1     #protection #safe Buy Now and be Safe <em>URL0...      1\n",
       "2     I'm in the running to win the PolyCase - CZ P-...      1\n",
       "3     ZEV Technologies Prizefighter, a cheap Agency ...      1\n",
       "4     I'm in the running to win a Springfield 1911 P...      1\n",
       "...                                                 ...    ...\n",
       "4995  Sai Baba! Sai Buhari! \"Dead men are getting ap...      0\n",
       "4996  Alpha Krav Maga CT Pistol retention while firi...      0\n",
       "4997  @USER01 “Uhm...Well...I’ll just be straightfor...      0\n",
       "4998  The 2nd Amendment states it it PLAIN LANGUAGE ...      0\n",
       "4999  New King of Concealed Carry? #springfieldarmor...      0\n",
       "\n",
       "[5000 rows x 2 columns]"
      ]
     },
     "execution_count": 6,
     "metadata": {},
     "output_type": "execute_result"
    }
   ],
   "source": [
    "gun"
   ]
  },
  {
   "cell_type": "markdown",
   "metadata": {},
   "source": [
    "### MeToo"
   ]
  },
  {
   "cell_type": "code",
   "execution_count": 7,
   "metadata": {},
   "outputs": [],
   "source": [
    "metoo_context_spam = pd.read_csv('dataset/metoo/context-spam/published_data_spam-MLJ-2022_metoo_context-spam_context_spam_5000_no_link.csv')\n",
    "metoo_not_context_spam = pd.read_csv('dataset/metoo/context-spam/published_data_spam-MLJ-2022_metoo_context-spam_not_context_spam_5000_no_link.csv')\n",
    "metoo_context_spam.drop(['tweet_id'], axis=1, inplace=True)\n",
    "metoo_not_context_spam.drop(['tweet_id'], axis=1, inplace=True)\n",
    "metoo = pd.concat([metoo_context_spam, metoo_not_context_spam])\n",
    "metoo.reset_index(drop=True, inplace=True)"
   ]
  },
  {
   "cell_type": "code",
   "execution_count": 8,
   "metadata": {},
   "outputs": [
    {
     "data": {
      "text/html": [
       "<div>\n",
       "<style scoped>\n",
       "    .dataframe tbody tr th:only-of-type {\n",
       "        vertical-align: middle;\n",
       "    }\n",
       "\n",
       "    .dataframe tbody tr th {\n",
       "        vertical-align: top;\n",
       "    }\n",
       "\n",
       "    .dataframe thead th {\n",
       "        text-align: right;\n",
       "    }\n",
       "</style>\n",
       "<table border=\"1\" class=\"dataframe\">\n",
       "  <thead>\n",
       "    <tr style=\"text-align: right;\">\n",
       "      <th></th>\n",
       "      <th>text</th>\n",
       "      <th>label</th>\n",
       "    </tr>\n",
       "  </thead>\n",
       "  <tbody>\n",
       "    <tr>\n",
       "      <th>0</th>\n",
       "      <td>Check out the latest happening in #events. #Ev...</td>\n",
       "      <td>1</td>\n",
       "    </tr>\n",
       "    <tr>\n",
       "      <th>1</th>\n",
       "      <td>Will b at #Half-PriceBooks, 15146 5/12: book s...</td>\n",
       "      <td>1</td>\n",
       "    </tr>\n",
       "    <tr>\n",
       "      <th>2</th>\n",
       "      <td>Thursday at 12 noon CT URL01_Removed recaps 5 ...</td>\n",
       "      <td>1</td>\n",
       "    </tr>\n",
       "    <tr>\n",
       "      <th>3</th>\n",
       "      <td>Move To #LosAngeles - Come #Glow Up And Be A S...</td>\n",
       "      <td>1</td>\n",
       "    </tr>\n",
       "    <tr>\n",
       "      <th>4</th>\n",
       "      <td>Men's Sweater Hoodie Fashion Casual Slim Ch......</td>\n",
       "      <td>1</td>\n",
       "    </tr>\n",
       "    <tr>\n",
       "      <th>...</th>\n",
       "      <td>...</td>\n",
       "      <td>...</td>\n",
       "    </tr>\n",
       "    <tr>\n",
       "      <th>4995</th>\n",
       "      <td>This started when i was 6. A elderly man who h...</td>\n",
       "      <td>0</td>\n",
       "    </tr>\n",
       "    <tr>\n",
       "      <th>4996</th>\n",
       "      <td>Meet the woman who started #MeToo 10 years ago...</td>\n",
       "      <td>0</td>\n",
       "    </tr>\n",
       "    <tr>\n",
       "      <th>4997</th>\n",
       "      <td>@USER01 @USER02 @USER03 @USER04 #MeToo and no ...</td>\n",
       "      <td>0</td>\n",
       "    </tr>\n",
       "    <tr>\n",
       "      <th>4998</th>\n",
       "      <td>@USER01 @USER02 Correct. But she’s not talking...</td>\n",
       "      <td>0</td>\n",
       "    </tr>\n",
       "    <tr>\n",
       "      <th>4999</th>\n",
       "      <td>@USER01 @USER02 @USER03 @USER04 They are also ...</td>\n",
       "      <td>0</td>\n",
       "    </tr>\n",
       "  </tbody>\n",
       "</table>\n",
       "<p>5000 rows × 2 columns</p>\n",
       "</div>"
      ],
      "text/plain": [
       "                                                   text  label\n",
       "0     Check out the latest happening in #events. #Ev...      1\n",
       "1     Will b at #Half-PriceBooks, 15146 5/12: book s...      1\n",
       "2     Thursday at 12 noon CT URL01_Removed recaps 5 ...      1\n",
       "3     Move To #LosAngeles - Come #Glow Up And Be A S...      1\n",
       "4     Men's Sweater Hoodie Fashion Casual Slim Ch......      1\n",
       "...                                                 ...    ...\n",
       "4995  This started when i was 6. A elderly man who h...      0\n",
       "4996  Meet the woman who started #MeToo 10 years ago...      0\n",
       "4997  @USER01 @USER02 @USER03 @USER04 #MeToo and no ...      0\n",
       "4998  @USER01 @USER02 Correct. But she’s not talking...      0\n",
       "4999  @USER01 @USER02 @USER03 @USER04 They are also ...      0\n",
       "\n",
       "[5000 rows x 2 columns]"
      ]
     },
     "execution_count": 8,
     "metadata": {},
     "output_type": "execute_result"
    }
   ],
   "source": [
    "metoo"
   ]
  },
  {
   "cell_type": "markdown",
   "metadata": {},
   "source": [
    "### Parenting"
   ]
  },
  {
   "cell_type": "code",
   "execution_count": 9,
   "metadata": {},
   "outputs": [],
   "source": [
    "parenting_context_spam = pd.read_csv('dataset/parenting/context-spam/published_data_spam-MLJ-2022_parenting_context-spam_context_spam_5000_no_link.csv')\n",
    "parenting_not_context_spam = pd.read_csv('dataset/parenting/context-spam/published_data_spam-MLJ-2022_parenting_context-spam_not_context_spam_5000_no_link.csv')\n",
    "parenting_context_spam.drop(['tweet_id'], axis=1, inplace=True)\n",
    "parenting_not_context_spam.drop(['tweet_id'], axis=1, inplace=True)\n",
    "parenting = pd.concat([parenting_context_spam, parenting_not_context_spam])\n",
    "parenting.reset_index(drop=True, inplace=True)"
   ]
  },
  {
   "cell_type": "code",
   "execution_count": 10,
   "metadata": {},
   "outputs": [
    {
     "data": {
      "text/html": [
       "<div>\n",
       "<style scoped>\n",
       "    .dataframe tbody tr th:only-of-type {\n",
       "        vertical-align: middle;\n",
       "    }\n",
       "\n",
       "    .dataframe tbody tr th {\n",
       "        vertical-align: top;\n",
       "    }\n",
       "\n",
       "    .dataframe thead th {\n",
       "        text-align: right;\n",
       "    }\n",
       "</style>\n",
       "<table border=\"1\" class=\"dataframe\">\n",
       "  <thead>\n",
       "    <tr style=\"text-align: right;\">\n",
       "      <th></th>\n",
       "      <th>text</th>\n",
       "      <th>label</th>\n",
       "    </tr>\n",
       "  </thead>\n",
       "  <tbody>\n",
       "    <tr>\n",
       "      <th>0</th>\n",
       "      <td>Pura Stainless Drinking Bottles Bundle Prizepa...</td>\n",
       "      <td>1</td>\n",
       "    </tr>\n",
       "    <tr>\n",
       "      <th>1</th>\n",
       "      <td>LG’s Twin Wash System @USER02 Is Everything Yo...</td>\n",
       "      <td>1</td>\n",
       "    </tr>\n",
       "    <tr>\n",
       "      <th>2</th>\n",
       "      <td>#AD #GetActiveAtWalmart Enter to #win some awe...</td>\n",
       "      <td>1</td>\n",
       "    </tr>\n",
       "    <tr>\n",
       "      <th>3</th>\n",
       "      <td>@USER01 tweet me when your hosting these givea...</td>\n",
       "      <td>1</td>\n",
       "    </tr>\n",
       "    <tr>\n",
       "      <th>4</th>\n",
       "      <td>Giveaway! Three Winners! Scribblenauts™ Showdo...</td>\n",
       "      <td>1</td>\n",
       "    </tr>\n",
       "    <tr>\n",
       "      <th>...</th>\n",
       "      <td>...</td>\n",
       "      <td>...</td>\n",
       "    </tr>\n",
       "    <tr>\n",
       "      <th>4995</th>\n",
       "      <td>@USER01 We sure can! Give us a quick call when...</td>\n",
       "      <td>0</td>\n",
       "    </tr>\n",
       "    <tr>\n",
       "      <th>4996</th>\n",
       "      <td>This Windex ad about kids growing up is making...</td>\n",
       "      <td>0</td>\n",
       "    </tr>\n",
       "    <tr>\n",
       "      <th>4997</th>\n",
       "      <td>Tips for surviving Daylight Savings Time - &lt;em...</td>\n",
       "      <td>0</td>\n",
       "    </tr>\n",
       "    <tr>\n",
       "      <th>4998</th>\n",
       "      <td>The Lane Bryant ad the networks didn't want yo...</td>\n",
       "      <td>0</td>\n",
       "    </tr>\n",
       "    <tr>\n",
       "      <th>4999</th>\n",
       "      <td>The latest The DaDa Rocks! Weekly! &lt;em&gt;URL01 R...</td>\n",
       "      <td>0</td>\n",
       "    </tr>\n",
       "  </tbody>\n",
       "</table>\n",
       "<p>5000 rows × 2 columns</p>\n",
       "</div>"
      ],
      "text/plain": [
       "                                                   text  label\n",
       "0     Pura Stainless Drinking Bottles Bundle Prizepa...      1\n",
       "1     LG’s Twin Wash System @USER02 Is Everything Yo...      1\n",
       "2     #AD #GetActiveAtWalmart Enter to #win some awe...      1\n",
       "3     @USER01 tweet me when your hosting these givea...      1\n",
       "4     Giveaway! Three Winners! Scribblenauts™ Showdo...      1\n",
       "...                                                 ...    ...\n",
       "4995  @USER01 We sure can! Give us a quick call when...      0\n",
       "4996  This Windex ad about kids growing up is making...      0\n",
       "4997  Tips for surviving Daylight Savings Time - <em...      0\n",
       "4998  The Lane Bryant ad the networks didn't want yo...      0\n",
       "4999  The latest The DaDa Rocks! Weekly! <em>URL01 R...      0\n",
       "\n",
       "[5000 rows x 2 columns]"
      ]
     },
     "execution_count": 10,
     "metadata": {},
     "output_type": "execute_result"
    }
   ],
   "source": [
    "parenting"
   ]
  },
  {
   "cell_type": "code",
   "execution_count": 9,
   "metadata": {},
   "outputs": [
    {
     "data": {
      "image/png": "[encoded data removed]",
      "text/plain": [
       "<Figure size 1500x500 with 3 Axes>"
      ]
     },
     "metadata": {},
     "output_type": "display_data"
    }
   ],
   "source": [
    "fig, axs = plt.subplots(1, 3, figsize=(15, 5))\n",
    "\n",
    "gun_labels = gun['label'].value_counts()\n",
    "gun_labels.plot(kind='bar', ax=axs[0], color=['green', 'skyblue'])\n",
    "axs[0].set_title('Gun Dataset')\n",
    "axs[0].set_xlabel('Label')\n",
    "axs[0].set_ylabel('Count')\n",
    "\n",
    "metoo_labels = metoo['label'].value_counts()\n",
    "metoo_labels.plot(kind='bar', ax=axs[1], color=['green', 'skyblue'])\n",
    "axs[1].set_title('MeToo Dataset')\n",
    "axs[1].set_xlabel('Label')\n",
    "axs[1].set_ylabel('Count')\n",
    "\n",
    "parenting_labels = parenting['label'].value_counts()\n",
    "parenting_labels.plot(kind='bar', ax=axs[2], color=['green', 'skyblue'])\n",
    "axs[2].set_title('Parenting Dataset')\n",
    "axs[2].set_xlabel('Label')\n",
    "axs[2].set_ylabel('Count')\n",
    "\n",
    "plt.tight_layout()\n",
    "plt.show()"
   ]
  },
  {
   "cell_type": "markdown",
   "metadata": {},
   "source": [
    "## Cleaning"
   ]
  },
  {
   "cell_type": "code",
   "execution_count": 10,
   "metadata": {},
   "outputs": [],
   "source": [
    "def clean_text(text):\n",
    "    text = re.sub(r\"@\\w+\", \"\", text)\n",
    "    \n",
    "    text = re.sub(r\"<em>.*?</em>\", \"\", text)\n",
    "    \n",
    "    text = re.sub(r\"http\\S+|www\\S+|https\\S+\", \"\", text)\n",
    "    \n",
    "    text = re.sub(r\"[^\\w\\s]\", \"\", text)\n",
    "    \n",
    "    text = re.sub(r\"\\d+\", \"\", text)\n",
    "    \n",
    "    text = text.lower()\n",
    "    \n",
    "    tokens = word_tokenize(text)\n",
    "    \n",
    "    stop_words = set(stopwords.words('english'))\n",
    "    tokens = [word for word in tokens if word not in stop_words]\n",
    "    \n",
    "    stemmer = PorterStemmer()\n",
    "    stemmed_tokens = [stemmer.stem(word) for word in tokens]\n",
    "    \n",
    "    lemmatizer = WordNetLemmatizer()\n",
    "    lemmatized_tokens = [lemmatizer.lemmatize(word) for word in stemmed_tokens]\n",
    "    cleaned_text = \" \".join(lemmatized_tokens)\n",
    "    \n",
    "    return cleaned_text"
   ]
  },
  {
   "cell_type": "code",
   "execution_count": 11,
   "metadata": {},
   "outputs": [
    {
     "name": "stdout",
     "output_type": "stream",
     "text": [
      "Before: Pura Stainless Drinking Bottles Bundle Prizepack Giveaway @USER02 @USER03\n",
      "<em>URL01 Removed</em> <em>URL02 Removed</em>\n",
      "After: pura stainless drink bottl bundl prizepack giveaway\n"
     ]
    }
   ],
   "source": [
    "before = parenting['text'].array[0]\n",
    "after = clean_text(before)\n",
    "print(f'Before: {before}')\n",
    "print(f'After: {after}')"
   ]
  },
  {
   "cell_type": "code",
   "execution_count": 12,
   "metadata": {},
   "outputs": [],
   "source": [
    "gun['text'] = gun['text'].apply(clean_text)\n",
    "metoo['text'] = metoo['text'].apply(clean_text)\n",
    "parenting['text'] = parenting['text'].apply(clean_text)"
   ]
  },
  {
   "cell_type": "markdown",
   "metadata": {},
   "source": [
    "## Spliting"
   ]
  },
  {
   "cell_type": "code",
   "execution_count": 13,
   "metadata": {},
   "outputs": [],
   "source": [
    "gun_train, gun_test = train_test_split(\n",
    "    gun, test_size=0.1, random_state=42, stratify=gun['label'])\n",
    "gun_train, gun_val = train_test_split(\n",
    "    gun_train, test_size=0.1, random_state=42, stratify=gun_train['label'])\n",
    "\n",
    "gun_train = pd.DataFrame(gun_train, columns=gun.columns)\n",
    "gun_test = pd.DataFrame(gun_test, columns=gun.columns)\n",
    "gun_val = pd.DataFrame(gun_val, columns=gun.columns)\n",
    "\n",
    "metoo_train, metoo_test = train_test_split(\n",
    "    metoo, test_size=0.1, random_state=42, stratify=metoo['label'])\n",
    "metoo_train, metoo_val = train_test_split(\n",
    "    metoo_train, test_size=0.1, random_state=42, stratify=metoo_train['label'])\n",
    "\n",
    "metoo_train = pd.DataFrame(metoo_train, columns=metoo.columns)\n",
    "metoo_test = pd.DataFrame(metoo_test, columns=metoo.columns)\n",
    "metoo_val = pd.DataFrame(metoo_val, columns=metoo.columns)\n",
    "\n",
    "parenting_train, parenting_test = train_test_split(\n",
    "    parenting, test_size=0.1, random_state=42, stratify=parenting['label'])\n",
    "parenting_train, parenting_val = train_test_split(\n",
    "    parenting_train, test_size=0.1, random_state=42, stratify=parenting_train['label'])\n",
    "\n",
    "parenting_train = pd.DataFrame(parenting_train, columns=parenting.columns)\n",
    "parenting_test = pd.DataFrame(parenting_test, columns=parenting.columns)\n",
    "parenting_val = pd.DataFrame(parenting_val, columns=parenting.columns)\n",
    "\n",
    "gun_train.reset_index(drop=True, inplace=True)\n",
    "gun_test.reset_index(drop=True, inplace=True)\n",
    "gun_val.reset_index(drop=True, inplace=True)\n",
    "\n",
    "metoo_train.reset_index(drop=True, inplace=True)\n",
    "metoo_test.reset_index(drop=True, inplace=True)\n",
    "metoo_val.reset_index(drop=True, inplace=True)\n",
    "\n",
    "parenting_train.reset_index(drop=True, inplace=True)\n",
    "parenting_test.reset_index(drop=True, inplace=True)\n",
    "parenting_val.reset_index(drop=True, inplace=True)\n"
   ]
  },
  {
   "cell_type": "markdown",
   "metadata": {},
   "source": [
    "# Feature Extraction"
   ]
  },
  {
   "cell_type": "markdown",
   "metadata": {},
   "source": [
    "## Bag Of Words"
   ]
  },
  {
   "cell_type": "code",
   "execution_count": 14,
   "metadata": {},
   "outputs": [],
   "source": [
    "vectorizer = CountVectorizer()"
   ]
  },
  {
   "cell_type": "markdown",
   "metadata": {},
   "source": [
    "### Parenting"
   ]
  },
  {
   "cell_type": "code",
   "execution_count": 15,
   "metadata": {},
   "outputs": [],
   "source": [
    "parenting_train_bow = vectorizer.fit_transform(parenting_train['text'])\n",
    "parenting_test_bow = vectorizer.transform(parenting_test['text'])\n",
    "parenting_train_bow = parenting_train_bow.toarray()\n",
    "parenting_test_bow = parenting_test_bow.toarray()"
   ]
  },
  {
   "cell_type": "markdown",
   "metadata": {},
   "source": [
    "### Gun"
   ]
  },
  {
   "cell_type": "code",
   "execution_count": 16,
   "metadata": {},
   "outputs": [],
   "source": [
    "gun_train_bow = vectorizer.fit_transform(gun_train['text'])\n",
    "gun_test_bow = vectorizer.transform(gun_test['text'])\n",
    "gun_train_bow = gun_train_bow.toarray()\n",
    "gun_test_bow = gun_test_bow.toarray()"
   ]
  },
  {
   "cell_type": "markdown",
   "metadata": {},
   "source": [
    "### MeToo"
   ]
  },
  {
   "cell_type": "code",
   "execution_count": 17,
   "metadata": {},
   "outputs": [],
   "source": [
    "metoo_train_bow = vectorizer.fit_transform(metoo_train['text'])\n",
    "metoo_test_bow = vectorizer.transform(metoo_test['text'])\n",
    "metoo_train_bow = metoo_train_bow.toarray()\n",
    "metoo_test_bow = metoo_test_bow.toarray()"
   ]
  },
  {
   "cell_type": "markdown",
   "metadata": {},
   "source": [
    "## TFIDF"
   ]
  },
  {
   "cell_type": "code",
   "execution_count": 2,
   "metadata": {},
   "outputs": [],
   "source": [
    "tfidf = TfidfVectorizer()"
   ]
  },
  {
   "cell_type": "markdown",
   "metadata": {},
   "source": [
    "### Parenting"
   ]
  },
  {
   "cell_type": "code",
   "execution_count": 18,
   "metadata": {},
   "outputs": [],
   "source": [
    "parenting_train_tfidf = tfidf.fit_transform(parenting_train['text'])\n",
    "parenting_test_tfidf = tfidf.transform(parenting_test['text'])\n",
    "parenting_train_tfidf = parenting_train_tfidf.toarray()\n",
    "parenting_test_tfidf = parenting_test_tfidf.toarray()"
   ]
  },
  {
   "cell_type": "markdown",
   "metadata": {},
   "source": [
    "### Gun"
   ]
  },
  {
   "cell_type": "code",
   "execution_count": 19,
   "metadata": {},
   "outputs": [],
   "source": [
    "gun_train_tfidf = tfidf.fit_transform(gun_train['text'])\n",
    "gun_test_tfidf = tfidf.transform(gun_test['text'])\n",
    "gun_train_tfidf = gun_train_tfidf.toarray()\n",
    "gun_test_tfidf = gun_test_tfidf.toarray()"
   ]
  },
  {
   "cell_type": "markdown",
   "metadata": {},
   "source": [
    "### MeToo"
   ]
  },
  {
   "cell_type": "code",
   "execution_count": 20,
   "metadata": {},
   "outputs": [],
   "source": [
    "metoo_train_tfidf = tfidf.fit_transform(metoo_train['text'])\n",
    "metoo_test_tfidf = tfidf.transform(metoo_test['text'])\n",
    "metoo_train_tfidf = metoo_train_tfidf.toarray()\n",
    "metoo_test_tfidf = metoo_test_tfidf.toarray()"
   ]
  },
  {
   "cell_type": "markdown",
   "metadata": {},
   "source": [
    "# Classic Algorithms"
   ]
  },
  {
   "cell_type": "code",
   "execution_count": 40,
   "metadata": {},
   "outputs": [],
   "source": [
    "def custom_scorer(y_true, y_pred):\n",
    "    score = precision_score(y_true, y_pred, average='macro', zero_division=0)\n",
    "    return score\n",
    "\n",
    "scorer = make_scorer(custom_scorer)"
   ]
  },
  {
   "cell_type": "markdown",
   "metadata": {},
   "source": [
    "## Random Forest"
   ]
  },
  {
   "cell_type": "code",
   "execution_count": 54,
   "metadata": {},
   "outputs": [],
   "source": [
    "param_grid = {\n",
    "    'n_estimators': [200, 300, 400],\n",
    "    'max_depth': [12, 16, 24],\n",
    "    'min_samples_split': [5, 7],\n",
    "    'min_samples_leaf': [1, 2]\n",
    "}\n",
    "rf_model = RandomForestClassifier()\n",
    "grid_search = GridSearchCV(estimator=rf_model, param_grid=param_grid, cv=5, scoring=scorer)"
   ]
  },
  {
   "cell_type": "markdown",
   "metadata": {},
   "source": [
    "### Parenting"
   ]
  },
  {
   "cell_type": "code",
   "execution_count": 55,
   "metadata": {},
   "outputs": [
    {
     "name": "stdout",
     "output_type": "stream",
     "text": [
      "Best Parameters: {'max_depth': 24, 'min_samples_leaf': 1, 'min_samples_split': 5, 'n_estimators': 200}\n"
     ]
    }
   ],
   "source": [
    "grid_search.fit(parenting_train_bow, parenting_train['label'])\n",
    "\n",
    "best_params = grid_search.best_params_\n",
    "print('Best Parameters:', best_params)\n",
    "best_model = grid_search.best_estimator_\n",
    "\n",
    "parenting_rf_pred = best_model.predict(parenting_test_bow)"
   ]
  },
  {
   "cell_type": "markdown",
   "metadata": {},
   "source": [
    "### Gun"
   ]
  },
  {
   "cell_type": "code",
   "execution_count": 56,
   "metadata": {},
   "outputs": [
    {
     "name": "stdout",
     "output_type": "stream",
     "text": [
      "Best Parameters: {'max_depth': 12, 'min_samples_leaf': 1, 'min_samples_split': 5, 'n_estimators': 200}\n"
     ]
    }
   ],
   "source": [
    "grid_search.fit(gun_train_bow, gun_train['label'])\n",
    "\n",
    "best_params = grid_search.best_params_\n",
    "print('Best Parameters:', best_params)\n",
    "best_model = grid_search.best_estimator_\n",
    "\n",
    "gun_rf_pred = best_model.predict(gun_test_bow)"
   ]
  },
  {
   "cell_type": "markdown",
   "metadata": {},
   "source": [
    "### MeToo"
   ]
  },
  {
   "cell_type": "code",
   "execution_count": 57,
   "metadata": {},
   "outputs": [
    {
     "name": "stdout",
     "output_type": "stream",
     "text": [
      "Best Parameters: {'max_depth': 24, 'min_samples_leaf': 1, 'min_samples_split': 5, 'n_estimators': 200}\n"
     ]
    }
   ],
   "source": [
    "grid_search.fit(metoo_train_bow, metoo_train['label'])\n",
    "\n",
    "best_params = grid_search.best_params_\n",
    "print('Best Parameters:', best_params)\n",
    "best_model = grid_search.best_estimator_\n",
    "\n",
    "metoo_rf_pred = best_model.predict(metoo_test_bow)"
   ]
  },
  {
   "cell_type": "markdown",
   "metadata": {},
   "source": [
    "## kNN"
   ]
  },
  {
   "cell_type": "code",
   "execution_count": 41,
   "metadata": {},
   "outputs": [],
   "source": [
    "param_grid = {\n",
    "    'n_neighbors': [7, 9, 11, 13, 17, 21],\n",
    "    'weights': ['uniform', 'distance'],\n",
    "    'metric': ['euclidean', 'manhattan']\n",
    "}\n",
    "knn_model = KNeighborsClassifier()\n",
    "grid_search = GridSearchCV(estimator=knn_model, param_grid=param_grid, cv=5, scoring=scorer)"
   ]
  },
  {
   "cell_type": "markdown",
   "metadata": {},
   "source": [
    "### Parenting"
   ]
  },
  {
   "cell_type": "code",
   "execution_count": 31,
   "metadata": {},
   "outputs": [
    {
     "name": "stdout",
     "output_type": "stream",
     "text": [
      "Best Parameters: {'metric': 'euclidean', 'n_neighbors': 17, 'weights': 'distance'}\n"
     ]
    }
   ],
   "source": [
    "grid_search.fit(parenting_train_tfidf, parenting_train['label'])\n",
    "\n",
    "best_params = grid_search.best_params_\n",
    "print('Best Parameters:', best_params)\n",
    "\n",
    "best_model = grid_search.best_estimator_\n",
    "parenting_knn_pred = best_model.predict(parenting_test_tfidf)"
   ]
  },
  {
   "cell_type": "markdown",
   "metadata": {},
   "source": [
    "### Gun"
   ]
  },
  {
   "cell_type": "code",
   "execution_count": 42,
   "metadata": {},
   "outputs": [
    {
     "name": "stdout",
     "output_type": "stream",
     "text": [
      "Best Parameters: {'metric': 'euclidean', 'n_neighbors': 17, 'weights': 'uniform'}\n"
     ]
    }
   ],
   "source": [
    "grid_search.fit(gun_train_tfidf, gun_train['label'])\n",
    "\n",
    "best_params = grid_search.best_params_\n",
    "print('Best Parameters:', best_params)\n",
    "\n",
    "best_model = grid_search.best_estimator_\n",
    "gun_knn_pred = best_model.predict(gun_test_tfidf)"
   ]
  },
  {
   "cell_type": "markdown",
   "metadata": {},
   "source": [
    "### MeToo"
   ]
  },
  {
   "cell_type": "code",
   "execution_count": 43,
   "metadata": {},
   "outputs": [
    {
     "name": "stdout",
     "output_type": "stream",
     "text": [
      "Best Parameters: {'metric': 'manhattan', 'n_neighbors': 11, 'weights': 'uniform'}\n"
     ]
    }
   ],
   "source": [
    "grid_search.fit(metoo_train_tfidf, metoo_train['label'])\n",
    "\n",
    "best_params = grid_search.best_params_\n",
    "print('Best Parameters:', best_params)\n",
    "\n",
    "best_model = grid_search.best_estimator_\n",
    "metoo_knn_pred = best_model.predict(metoo_test_tfidf)"
   ]
  },
  {
   "cell_type": "markdown",
   "metadata": {},
   "source": [
    "# Neural Network"
   ]
  },
  {
   "cell_type": "markdown",
   "metadata": {},
   "source": [
    "## Model"
   ]
  },
  {
   "cell_type": "code",
   "execution_count": 18,
   "metadata": {},
   "outputs": [],
   "source": [
    "device = torch.device('cuda' if torch.cuda.is_available() else 'mps')"
   ]
  },
  {
   "cell_type": "code",
   "execution_count": 19,
   "metadata": {},
   "outputs": [],
   "source": [
    "class MyModel(nn.Module):\n",
    "    def __init__(self, bert_model):\n",
    "        super(MyModel, self).__init__()\n",
    "        self.bert_model = bert_model\n",
    "        self.dropout = nn.Dropout(0.1)\n",
    "        self.linear = nn.Linear(self.bert_model.config.hidden_size, 2)\n",
    "\n",
    "    def forward(self, inputs):\n",
    "        outputs = self.bert_model(**inputs)\n",
    "        last_hidden_state = outputs.last_hidden_state\n",
    "        bert_output = last_hidden_state[:, 0, :]\n",
    "        dropout_output = self.dropout(bert_output)\n",
    "        linear_output = self.linear(dropout_output)\n",
    "        return linear_output"
   ]
  },
  {
   "cell_type": "markdown",
   "metadata": {},
   "source": [
    "## Loading Data"
   ]
  },
  {
   "cell_type": "code",
   "execution_count": 20,
   "metadata": {},
   "outputs": [],
   "source": [
    "bert_tokenizer = BertTokenizer.from_pretrained('bert-base-uncased')"
   ]
  },
  {
   "cell_type": "code",
   "execution_count": 21,
   "metadata": {},
   "outputs": [],
   "source": [
    "class CustomDataset(Dataset):\n",
    "    def __init__(self, df, tokenizer):\n",
    "        self.df = df\n",
    "        self.tokenizer = tokenizer\n",
    "        return\n",
    "    \n",
    "    def __len__(self):\n",
    "        return len(self.df)\n",
    "    \n",
    "    def __getitem__(self, idx):\n",
    "        text = self.df.loc[idx, 'text']\n",
    "        label = self.df.loc[idx, 'label']\n",
    "        tokenized = self.tokenizer(text, padding='max_length', truncation=True, max_length=512, return_tensors='pt')\n",
    "        output = {\n",
    "            'input_ids': tokenized['input_ids'].flatten(),\n",
    "            'attention_mask': tokenized['attention_mask'].flatten(),\n",
    "            'label': torch.tensor(label)\n",
    "        }\n",
    "        return output"
   ]
  },
  {
   "cell_type": "markdown",
   "metadata": {},
   "source": [
    "### Datasets"
   ]
  },
  {
   "cell_type": "code",
   "execution_count": 22,
   "metadata": {},
   "outputs": [],
   "source": [
    "gun_train_dataset = CustomDataset(gun_train, bert_tokenizer)\n",
    "gun_val_dataset = CustomDataset(gun_val, bert_tokenizer)\n",
    "gun_test_dataset = CustomDataset(gun_test, bert_tokenizer)\n",
    "\n",
    "metoo_train_dataset = CustomDataset(metoo_train, bert_tokenizer)\n",
    "metoo_val_dataset = CustomDataset(metoo_val, bert_tokenizer)\n",
    "metoo_test_dataset = CustomDataset(metoo_test, bert_tokenizer)\n",
    "\n",
    "parenting_train_dataset = CustomDataset(parenting_train, bert_tokenizer)\n",
    "parenting_val_dataset = CustomDataset(parenting_val, bert_tokenizer)\n",
    "parenting_test_dataset = CustomDataset(parenting_test, bert_tokenizer)"
   ]
  },
  {
   "cell_type": "markdown",
   "metadata": {},
   "source": [
    "### Data Loaders"
   ]
  },
  {
   "cell_type": "code",
   "execution_count": 23,
   "metadata": {},
   "outputs": [],
   "source": [
    "batch_size = 20\n",
    "num_epochs = 20\n",
    "\n",
    "gun_train_dataloader = torch.utils.data.DataLoader(gun_train_dataset, batch_size=batch_size, shuffle=True)\n",
    "gun_val_dataloader = torch.utils.data.DataLoader(gun_val_dataset, batch_size=batch_size, shuffle=True)\n",
    "gun_test_dataloader = torch.utils.data.DataLoader(gun_test_dataset, batch_size=batch_size, shuffle=True)\n",
    "\n",
    "metoo_train_dataloader = torch.utils.data.DataLoader(metoo_train_dataset, batch_size=batch_size, shuffle=True)\n",
    "metoo_val_dataloader = torch.utils.data.DataLoader(metoo_val_dataset, batch_size=batch_size, shuffle=True)\n",
    "metoo_test_dataloader = torch.utils.data.DataLoader(metoo_test_dataset, batch_size=batch_size, shuffle=True)\n",
    "\n",
    "parenting_train_dataloader = torch.utils.data.DataLoader(parenting_train_dataset, batch_size=batch_size, shuffle=True)\n",
    "parenting_val_dataloader = torch.utils.data.DataLoader(parenting_val_dataset, batch_size=batch_size, shuffle=True)\n",
    "parenting_test_dataloader = torch.utils.data.DataLoader(parenting_test_dataset, batch_size=batch_size, shuffle=True)"
   ]
  },
  {
   "cell_type": "markdown",
   "metadata": {},
   "source": [
    "## Learning"
   ]
  },
  {
   "cell_type": "code",
   "execution_count": 24,
   "metadata": {},
   "outputs": [],
   "source": [
    "def train_model(bert_model, train_dataloader, validation_dataloader) -> MyModel:\n",
    "    bert_model = bert_model.to(device)\n",
    "    my_model = MyModel(bert_model)\n",
    "    my_model = my_model.to(device)\n",
    "\n",
    "    criterion = nn.CrossEntropyLoss()\n",
    "    optimizer = torch.optim.Adam(my_model.parameters(), lr=0.000001)\n",
    "\n",
    "    patience = 3\n",
    "    counter = 0\n",
    "    best_loss = 10000\n",
    "\n",
    "    for epoch in range(20):\n",
    "        running_loss = 0.0\n",
    "        total_predictions = []\n",
    "        total_labels = []\n",
    "\n",
    "        for batch in train_dataloader:\n",
    "            inputs = {key: value.to(device) for key, value in batch.items() if key != 'label'}\n",
    "            labels = batch['label'].to(device)\n",
    "\n",
    "            optimizer.zero_grad()\n",
    "\n",
    "            outputs = my_model(inputs)\n",
    "            loss = criterion(outputs, labels)\n",
    "            loss.backward()\n",
    "            optimizer.step()\n",
    "\n",
    "            running_loss += loss.item()\n",
    "\n",
    "            probabilities = torch.nn.functional.softmax(outputs, dim=1)\n",
    "            predictions = torch.argmax(probabilities, dim=1)\n",
    "            total_predictions.extend(predictions.cpu().numpy())\n",
    "            total_labels.extend(labels.cpu().numpy())\n",
    "\n",
    "        epoch_loss = running_loss / len(train_dataloader)\n",
    "        epoch_f1_macro = f1_score(total_labels, total_predictions, average='macro')\n",
    "        epoch_precision_macro = precision_score(total_labels, total_predictions, average='macro')\n",
    "        print(f\"Epoch {epoch+1}/{num_epochs}, Loss: {epoch_loss:.4f}, F1 Macro: {epoch_f1_macro:.4f}, Precision Macro: {epoch_precision_macro:.4f}\")\n",
    "\n",
    "        # Validation\n",
    "        my_model.eval()\n",
    "        validation_loss = 0.0\n",
    "\n",
    "        with torch.no_grad():\n",
    "            for val_batch in validation_dataloader:\n",
    "                val_inputs = {key: value.to(device) for key, value in val_batch.items() if key != 'label'}\n",
    "                val_labels_batch = val_batch['label'].to(device)\n",
    "\n",
    "                val_outputs = my_model(val_inputs)\n",
    "                loss = criterion(val_outputs, val_labels_batch)\n",
    "                validation_loss += loss.item()\n",
    "\n",
    "        epoch_validation_loss = validation_loss / len(validation_dataloader)\n",
    "        print(f\"Validation Loss: {epoch_validation_loss:.4f}\")\n",
    "\n",
    "        if epoch_validation_loss < best_loss:\n",
    "            best_loss = epoch_validation_loss\n",
    "            counter = 0\n",
    "        else:\n",
    "            counter += 1\n",
    "            if counter >= patience:\n",
    "                print(\"Early stopping triggered. Training stopped.\")\n",
    "                break\n",
    "\n",
    "        my_model.train()\n",
    "    \n",
    "    return my_model"
   ]
  },
  {
   "cell_type": "markdown",
   "metadata": {},
   "source": [
    "### Parenting"
   ]
  },
  {
   "cell_type": "code",
   "execution_count": 25,
   "metadata": {},
   "outputs": [
    {
     "name": "stdout",
     "output_type": "stream",
     "text": [
      "Epoch 1/20, Loss: 0.6268, F1 Macro: 0.6419, Precision Macro: 0.6542\n",
      "Validation Loss: 0.5105\n",
      "Epoch 2/20, Loss: 0.5173, F1 Macro: 0.7530, Precision Macro: 0.7531\n",
      "Validation Loss: 0.4685\n",
      "Epoch 3/20, Loss: 0.4755, F1 Macro: 0.7782, Precision Macro: 0.7782\n",
      "Validation Loss: 0.4528\n",
      "Epoch 4/20, Loss: 0.4510, F1 Macro: 0.7931, Precision Macro: 0.7931\n",
      "Validation Loss: 0.4393\n",
      "Epoch 5/20, Loss: 0.4240, F1 Macro: 0.8111, Precision Macro: 0.8111\n",
      "Validation Loss: 0.4326\n",
      "Epoch 6/20, Loss: 0.4070, F1 Macro: 0.8143, Precision Macro: 0.8143\n",
      "Validation Loss: 0.4354\n",
      "Epoch 7/20, Loss: 0.3940, F1 Macro: 0.8237, Precision Macro: 0.8237\n",
      "Validation Loss: 0.4298\n",
      "Epoch 8/20, Loss: 0.3782, F1 Macro: 0.8306, Precision Macro: 0.8306\n",
      "Validation Loss: 0.4350\n",
      "Epoch 9/20, Loss: 0.3635, F1 Macro: 0.8452, Precision Macro: 0.8452\n",
      "Validation Loss: 0.4328\n",
      "Epoch 10/20, Loss: 0.3455, F1 Macro: 0.8531, Precision Macro: 0.8531\n",
      "Validation Loss: 0.4331\n",
      "Early stopping triggered. Training stopped.\n"
     ]
    }
   ],
   "source": [
    "model_file = 'models/parenting_model.pth'\n",
    "parenting_bert_model = BertModel.from_pretrained('bert-base-uncased')\n",
    "\n",
    "if os.path.isfile(model_file):\n",
    "    parenting_model = MyModel(parenting_bert_model)\n",
    "    parenting_model.load_state_dict(torch.load(model_file))\n",
    "    parenting_model = parenting_model.to(device)\n",
    "else:\n",
    "    parenting_model = train_model(parenting_bert_model, parenting_train_dataloader, parenting_val_dataloader)\n",
    "    torch.save(parenting_model.state_dict(), model_file)"
   ]
  },
  {
   "cell_type": "markdown",
   "metadata": {},
   "source": [
    "### Gun"
   ]
  },
  {
   "cell_type": "code",
   "execution_count": 31,
   "metadata": {},
   "outputs": [
    {
     "name": "stdout",
     "output_type": "stream",
     "text": [
      "Epoch 1/20, Loss: 0.1823, F1 Macro: 0.4915, Precision Macro: 0.4863\n",
      "Validation Loss: 0.0816\n",
      "Epoch 2/20, Loss: 0.0819, F1 Macro: 0.5517, Precision Macro: 0.8373\n",
      "Validation Loss: 0.0663\n",
      "Epoch 3/20, Loss: 0.0680, F1 Macro: 0.6850, Precision Macro: 0.8092\n",
      "Validation Loss: 0.0629\n",
      "Epoch 4/20, Loss: 0.0608, F1 Macro: 0.7129, Precision Macro: 0.8044\n",
      "Validation Loss: 0.0689\n",
      "Epoch 5/20, Loss: 0.0531, F1 Macro: 0.7870, Precision Macro: 0.8530\n",
      "Validation Loss: 0.0654\n",
      "Epoch 6/20, Loss: 0.0459, F1 Macro: 0.8116, Precision Macro: 0.8613\n",
      "Validation Loss: 0.0719\n",
      "Early stopping triggered. Training stopped.\n"
     ]
    }
   ],
   "source": [
    "model_file = 'models/gun_model.pth'\n",
    "gun_bert_model = BertModel.from_pretrained('bert-base-uncased')\n",
    "\n",
    "if os.path.isfile(model_file):\n",
    "    gun_model = MyModel(parenting_bert_model)\n",
    "    gun_model.load_state_dict(torch.load(model_file))\n",
    "    gun_model = gun_model.to(device)\n",
    "else:\n",
    "    gun_model = train_model(gun_bert_model, gun_train_dataloader, gun_val_dataloader)\n",
    "    torch.save(gun_model.state_dict(), model_file)"
   ]
  },
  {
   "cell_type": "markdown",
   "metadata": {},
   "source": [
    "### MeToo"
   ]
  },
  {
   "cell_type": "code",
   "execution_count": 25,
   "metadata": {},
   "outputs": [
    {
     "name": "stdout",
     "output_type": "stream",
     "text": [
      "Epoch 1/20, Loss: 0.1662, F1 Macro: 0.4915, Precision Macro: 0.4837\n",
      "Validation Loss: 0.0957\n",
      "Epoch 2/20, Loss: 0.0784, F1 Macro: 0.5279, Precision Macro: 0.8414\n",
      "Validation Loss: 0.0681\n",
      "Epoch 3/20, Loss: 0.0589, F1 Macro: 0.7874, Precision Macro: 0.8708\n",
      "Validation Loss: 0.0665\n",
      "Epoch 4/20, Loss: 0.0527, F1 Macro: 0.8494, Precision Macro: 0.8815\n",
      "Validation Loss: 0.0702\n",
      "Epoch 5/20, Loss: 0.0452, F1 Macro: 0.8594, Precision Macro: 0.8944\n",
      "Validation Loss: 0.0781\n",
      "Epoch 6/20, Loss: 0.0420, F1 Macro: 0.8529, Precision Macro: 0.8749\n",
      "Validation Loss: 0.0823\n",
      "Early stopping triggered. Training stopped.\n"
     ]
    }
   ],
   "source": [
    "model_file = 'models/metoo_model.pth'\n",
    "metoo_bert_model = BertModel.from_pretrained('bert-base-uncased')\n",
    "\n",
    "if os.path.isfile(model_file):\n",
    "    metoo_model = MyModel(metoo_bert_model)\n",
    "    metoo_model.load_state_dict(torch.load(model_file))\n",
    "    metoo_model = metoo_model.to(device)\n",
    "else:\n",
    "    metoo_model= train_model(metoo_bert_model, metoo_train_dataloader, metoo_val_dataloader)\n",
    "    torch.save(metoo_model.state_dict(), model_file)"
   ]
  },
  {
   "cell_type": "markdown",
   "metadata": {},
   "source": [
    "# Testing"
   ]
  },
  {
   "cell_type": "code",
   "execution_count": 26,
   "metadata": {},
   "outputs": [],
   "source": [
    "def report(test, pred):\n",
    "    print(\"Classification Report:\")\n",
    "    print(classification_report(test, pred))\n",
    "    cm = confusion_matrix(test, pred, labels=[0, 1])\n",
    "    disp = ConfusionMatrixDisplay(confusion_matrix=cm, display_labels=['not spam', 'spam'])\n",
    "    disp.plot()\n",
    "    plt.show()"
   ]
  },
  {
   "cell_type": "code",
   "execution_count": 27,
   "metadata": {},
   "outputs": [],
   "source": [
    "def test_model(my_model, test_dataloader):\n",
    "    my_model.eval()\n",
    "\n",
    "    true_labels = []\n",
    "    predicted_labels = []\n",
    "\n",
    "    with torch.no_grad():\n",
    "        for test_batch in test_dataloader:\n",
    "            test_inputs = {key: value.to(device) for key, value in test_batch.items() if key != 'label'}\n",
    "            test_labels = test_batch['label'].to(device)\n",
    "\n",
    "            test_outputs = my_model(test_inputs)\n",
    "            test_probabilities = torch.nn.functional.softmax(test_outputs, dim=1)\n",
    "            test_predictions = torch.argmax(test_probabilities, dim=1)\n",
    "\n",
    "            true_labels.extend(test_labels.cpu().numpy())\n",
    "            predicted_labels.extend(test_predictions.cpu().numpy())\n",
    "\n",
    "    report(true_labels, predicted_labels)"
   ]
  },
  {
   "cell_type": "markdown",
   "metadata": {},
   "source": [
    "## Within Domain"
   ]
  },
  {
   "cell_type": "markdown",
   "metadata": {},
   "source": [
    "### Parenting"
   ]
  },
  {
   "cell_type": "markdown",
   "metadata": {},
   "source": [
    "#### Neural Network"
   ]
  },
  {
   "cell_type": "code",
   "execution_count": 29,
   "metadata": {},
   "outputs": [
    {
     "name": "stdout",
     "output_type": "stream",
     "text": [
      "Classification Report:\n",
      "              precision    recall  f1-score   support\n",
      "\n",
      "           0       0.81      0.79      0.80       253\n",
      "           1       0.79      0.81      0.80       247\n",
      "\n",
      "    accuracy                           0.80       500\n",
      "   macro avg       0.80      0.80      0.80       500\n",
      "weighted avg       0.80      0.80      0.80       500\n",
      "\n"
     ]
    },
    {
     "data": {
      "image/png": "[encoded data removed]",
      "text/plain": [
       "<Figure size 640x480 with 2 Axes>"
      ]
     },
     "metadata": {},
     "output_type": "display_data"
    }
   ],
   "source": [
    "test_model(parenting_model, parenting_test_dataloader)"
   ]
  },
  {
   "cell_type": "markdown",
   "metadata": {},
   "source": [
    "#### Random Forest"
   ]
  },
  {
   "cell_type": "code",
   "execution_count": 60,
   "metadata": {},
   "outputs": [
    {
     "name": "stdout",
     "output_type": "stream",
     "text": [
      "Classification Report:\n",
      "              precision    recall  f1-score   support\n",
      "\n",
      "           0       0.72      0.83      0.77       253\n",
      "           1       0.80      0.66      0.72       247\n",
      "\n",
      "    accuracy                           0.75       500\n",
      "   macro avg       0.76      0.75      0.75       500\n",
      "weighted avg       0.75      0.75      0.75       500\n",
      "\n"
     ]
    },
    {
     "data": {
      "image/png": "[encoded data removed]",
      "text/plain": [
       "<Figure size 640x480 with 2 Axes>"
      ]
     },
     "metadata": {},
     "output_type": "display_data"
    }
   ],
   "source": [
    "report(parenting_test['label'], parenting_rf_pred)"
   ]
  },
  {
   "cell_type": "markdown",
   "metadata": {},
   "source": [
    "#### kNN"
   ]
  },
  {
   "cell_type": "code",
   "execution_count": 32,
   "metadata": {},
   "outputs": [
    {
     "name": "stdout",
     "output_type": "stream",
     "text": [
      "Classification Report:\n",
      "              precision    recall  f1-score   support\n",
      "\n",
      "           0       0.78      0.79      0.78       253\n",
      "           1       0.78      0.77      0.78       247\n",
      "\n",
      "    accuracy                           0.78       500\n",
      "   macro avg       0.78      0.78      0.78       500\n",
      "weighted avg       0.78      0.78      0.78       500\n",
      "\n"
     ]
    },
    {
     "data": {
      "image/png": "[encoded data removed]",
      "text/plain": [
       "<Figure size 640x480 with 2 Axes>"
      ]
     },
     "metadata": {},
     "output_type": "display_data"
    }
   ],
   "source": [
    "report(parenting_test['label'], parenting_knn_pred)"
   ]
  },
  {
   "cell_type": "markdown",
   "metadata": {},
   "source": [
    "### Gun"
   ]
  },
  {
   "cell_type": "markdown",
   "metadata": {},
   "source": [
    "#### Neural Network"
   ]
  },
  {
   "cell_type": "code",
   "execution_count": 35,
   "metadata": {},
   "outputs": [
    {
     "name": "stdout",
     "output_type": "stream",
     "text": [
      "Classification Report:\n",
      "              precision    recall  f1-score   support\n",
      "\n",
      "           0       0.99      0.97      0.98       487\n",
      "           1       0.38      0.62      0.47        13\n",
      "\n",
      "    accuracy                           0.96       500\n",
      "   macro avg       0.69      0.79      0.73       500\n",
      "weighted avg       0.97      0.96      0.97       500\n",
      "\n"
     ]
    },
    {
     "data": {
      "image/png": "[encoded data removed]",
      "text/plain": [
       "<Figure size 640x480 with 2 Axes>"
      ]
     },
     "metadata": {},
     "output_type": "display_data"
    }
   ],
   "source": [
    "test_model(gun_model, gun_test_dataloader)"
   ]
  },
  {
   "cell_type": "markdown",
   "metadata": {},
   "source": [
    "#### Random Forest"
   ]
  },
  {
   "cell_type": "code",
   "execution_count": 61,
   "metadata": {},
   "outputs": [
    {
     "name": "stdout",
     "output_type": "stream",
     "text": [
      "Classification Report:\n",
      "              precision    recall  f1-score   support\n",
      "\n",
      "           0       0.97      1.00      0.99       487\n",
      "           1       0.00      0.00      0.00        13\n",
      "\n",
      "    accuracy                           0.97       500\n",
      "   macro avg       0.49      0.50      0.49       500\n",
      "weighted avg       0.95      0.97      0.96       500\n",
      "\n"
     ]
    },
    {
     "name": "stderr",
     "output_type": "stream",
     "text": [
      "/Users/storm/miniconda3/envs/data/lib/python3.10/site-packages/sklearn/metrics/_classification.py:1471: UndefinedMetricWarning: Precision and F-score are ill-defined and being set to 0.0 in labels with no predicted samples. Use `zero_division` parameter to control this behavior.\n",
      "  _warn_prf(average, modifier, msg_start, len(result))\n",
      "/Users/storm/miniconda3/envs/data/lib/python3.10/site-packages/sklearn/metrics/_classification.py:1471: UndefinedMetricWarning: Precision and F-score are ill-defined and being set to 0.0 in labels with no predicted samples. Use `zero_division` parameter to control this behavior.\n",
      "  _warn_prf(average, modifier, msg_start, len(result))\n",
      "/Users/storm/miniconda3/envs/data/lib/python3.10/site-packages/sklearn/metrics/_classification.py:1471: UndefinedMetricWarning: Precision and F-score are ill-defined and being set to 0.0 in labels with no predicted samples. Use `zero_division` parameter to control this behavior.\n",
      "  _warn_prf(average, modifier, msg_start, len(result))\n"
     ]
    },
    {
     "data": {
      "image/png": "[encoded data removed]",
      "text/plain": [
       "<Figure size 640x480 with 2 Axes>"
      ]
     },
     "metadata": {},
     "output_type": "display_data"
    }
   ],
   "source": [
    "report(gun_test['label'], gun_rf_pred)"
   ]
  },
  {
   "cell_type": "markdown",
   "metadata": {},
   "source": [
    "#### kNN"
   ]
  },
  {
   "cell_type": "code",
   "execution_count": 44,
   "metadata": {},
   "outputs": [
    {
     "name": "stdout",
     "output_type": "stream",
     "text": [
      "Classification Report:\n",
      "              precision    recall  f1-score   support\n",
      "\n",
      "           0       0.98      0.99      0.98       487\n",
      "           1       0.40      0.31      0.35        13\n",
      "\n",
      "    accuracy                           0.97       500\n",
      "   macro avg       0.69      0.65      0.67       500\n",
      "weighted avg       0.97      0.97      0.97       500\n",
      "\n"
     ]
    },
    {
     "data": {
      "image/png": "[encoded data removed]",
      "text/plain": [
       "<Figure size 640x480 with 2 Axes>"
      ]
     },
     "metadata": {},
     "output_type": "display_data"
    }
   ],
   "source": [
    "report(gun_test['label'], gun_knn_pred)"
   ]
  },
  {
   "cell_type": "markdown",
   "metadata": {},
   "source": [
    "### MeToo"
   ]
  },
  {
   "cell_type": "markdown",
   "metadata": {},
   "source": [
    "#### Neural Network"
   ]
  },
  {
   "cell_type": "code",
   "execution_count": 29,
   "metadata": {},
   "outputs": [
    {
     "name": "stdout",
     "output_type": "stream",
     "text": [
      "Classification Report:\n",
      "              precision    recall  f1-score   support\n",
      "\n",
      "           0       0.99      0.99      0.99       484\n",
      "           1       0.68      0.81      0.74        16\n",
      "\n",
      "    accuracy                           0.98       500\n",
      "   macro avg       0.84      0.90      0.87       500\n",
      "weighted avg       0.98      0.98      0.98       500\n",
      "\n"
     ]
    },
    {
     "data": {
      "image/png": "[encoded data removed]",
      "text/plain": [
       "<Figure size 640x480 with 2 Axes>"
      ]
     },
     "metadata": {},
     "output_type": "display_data"
    }
   ],
   "source": [
    "test_model(metoo_model, metoo_test_dataloader)"
   ]
  },
  {
   "cell_type": "markdown",
   "metadata": {},
   "source": [
    "#### Random Forest"
   ]
  },
  {
   "cell_type": "code",
   "execution_count": 62,
   "metadata": {},
   "outputs": [
    {
     "name": "stdout",
     "output_type": "stream",
     "text": [
      "Classification Report:\n",
      "              precision    recall  f1-score   support\n",
      "\n",
      "           0       0.97      1.00      0.98       484\n",
      "           1       0.00      0.00      0.00        16\n",
      "\n",
      "    accuracy                           0.97       500\n",
      "   macro avg       0.48      0.50      0.49       500\n",
      "weighted avg       0.94      0.97      0.95       500\n",
      "\n"
     ]
    },
    {
     "name": "stderr",
     "output_type": "stream",
     "text": [
      "/Users/storm/miniconda3/envs/data/lib/python3.10/site-packages/sklearn/metrics/_classification.py:1471: UndefinedMetricWarning: Precision and F-score are ill-defined and being set to 0.0 in labels with no predicted samples. Use `zero_division` parameter to control this behavior.\n",
      "  _warn_prf(average, modifier, msg_start, len(result))\n",
      "/Users/storm/miniconda3/envs/data/lib/python3.10/site-packages/sklearn/metrics/_classification.py:1471: UndefinedMetricWarning: Precision and F-score are ill-defined and being set to 0.0 in labels with no predicted samples. Use `zero_division` parameter to control this behavior.\n",
      "  _warn_prf(average, modifier, msg_start, len(result))\n",
      "/Users/storm/miniconda3/envs/data/lib/python3.10/site-packages/sklearn/metrics/_classification.py:1471: UndefinedMetricWarning: Precision and F-score are ill-defined and being set to 0.0 in labels with no predicted samples. Use `zero_division` parameter to control this behavior.\n",
      "  _warn_prf(average, modifier, msg_start, len(result))\n"
     ]
    },
    {
     "data": {
      "image/png": "[encoded data removed]",
      "text/plain": [
       "<Figure size 640x480 with 2 Axes>"
      ]
     },
     "metadata": {},
     "output_type": "display_data"
    }
   ],
   "source": [
    "report(metoo_test['label'], metoo_rf_pred)"
   ]
  },
  {
   "cell_type": "markdown",
   "metadata": {},
   "source": [
    "#### kNN"
   ]
  },
  {
   "cell_type": "code",
   "execution_count": 45,
   "metadata": {},
   "outputs": [
    {
     "name": "stdout",
     "output_type": "stream",
     "text": [
      "Classification Report:\n",
      "              precision    recall  f1-score   support\n",
      "\n",
      "           0       0.98      0.99      0.99       484\n",
      "           1       0.70      0.44      0.54        16\n",
      "\n",
      "    accuracy                           0.98       500\n",
      "   macro avg       0.84      0.72      0.76       500\n",
      "weighted avg       0.97      0.98      0.97       500\n",
      "\n"
     ]
    },
    {
     "data": {
      "image/png": "[encoded data removed]",
      "text/plain": [
       "<Figure size 640x480 with 2 Axes>"
      ]
     },
     "metadata": {},
     "output_type": "display_data"
    }
   ],
   "source": [
    "report(metoo_test['label'], metoo_knn_pred)"
   ]
  },
  {
   "cell_type": "markdown",
   "metadata": {},
   "source": [
    "## Cross Domain"
   ]
  },
  {
   "cell_type": "markdown",
   "metadata": {},
   "source": [
    "### Parenting Model"
   ]
  },
  {
   "cell_type": "markdown",
   "metadata": {},
   "source": [
    "#### Gun Data"
   ]
  },
  {
   "cell_type": "code",
   "execution_count": 39,
   "metadata": {},
   "outputs": [
    {
     "name": "stdout",
     "output_type": "stream",
     "text": [
      "Classification Report:\n",
      "              precision    recall  f1-score   support\n",
      "\n",
      "           0       0.85      0.05      0.09       487\n",
      "           1       0.02      0.69      0.04        13\n",
      "\n",
      "    accuracy                           0.06       500\n",
      "   macro avg       0.44      0.37      0.06       500\n",
      "weighted avg       0.83      0.06      0.09       500\n",
      "\n"
     ]
    },
    {
     "data": {
      "image/png": "[encoded data removed]",
      "text/plain": [
       "<Figure size 640x480 with 2 Axes>"
      ]
     },
     "metadata": {},
     "output_type": "display_data"
    }
   ],
   "source": [
    "test_model(parenting_model, gun_test_dataloader)"
   ]
  },
  {
   "cell_type": "markdown",
   "metadata": {},
   "source": [
    "#### MeToo Data"
   ]
  },
  {
   "cell_type": "code",
   "execution_count": 40,
   "metadata": {},
   "outputs": [
    {
     "name": "stdout",
     "output_type": "stream",
     "text": [
      "Classification Report:\n",
      "              precision    recall  f1-score   support\n",
      "\n",
      "           0       1.00      0.01      0.01       484\n",
      "           1       0.03      1.00      0.06        16\n",
      "\n",
      "    accuracy                           0.04       500\n",
      "   macro avg       0.52      0.50      0.04       500\n",
      "weighted avg       0.97      0.04      0.01       500\n",
      "\n"
     ]
    },
    {
     "data": {
      "image/png": "[encoded data removed]",
      "text/plain": [
       "<Figure size 640x480 with 2 Axes>"
      ]
     },
     "metadata": {},
     "output_type": "display_data"
    }
   ],
   "source": [
    "test_model(parenting_model, metoo_test_dataloader)"
   ]
  },
  {
   "cell_type": "markdown",
   "metadata": {},
   "source": [
    "### Gun Model"
   ]
  },
  {
   "cell_type": "markdown",
   "metadata": {},
   "source": [
    "#### Parenting Data"
   ]
  },
  {
   "cell_type": "code",
   "execution_count": 41,
   "metadata": {},
   "outputs": [
    {
     "name": "stdout",
     "output_type": "stream",
     "text": [
      "Classification Report:\n",
      "              precision    recall  f1-score   support\n",
      "\n",
      "           0       0.52      0.99      0.68       253\n",
      "           1       0.88      0.06      0.11       247\n",
      "\n",
      "    accuracy                           0.53       500\n",
      "   macro avg       0.70      0.53      0.40       500\n",
      "weighted avg       0.70      0.53      0.40       500\n",
      "\n"
     ]
    },
    {
     "data": {
      "image/png": "[encoded data removed]",
      "text/plain": [
       "<Figure size 640x480 with 2 Axes>"
      ]
     },
     "metadata": {},
     "output_type": "display_data"
    }
   ],
   "source": [
    "test_model(gun_model, parenting_test_dataloader)"
   ]
  },
  {
   "cell_type": "markdown",
   "metadata": {},
   "source": [
    "#### MeToo Data"
   ]
  },
  {
   "cell_type": "code",
   "execution_count": 42,
   "metadata": {},
   "outputs": [
    {
     "name": "stdout",
     "output_type": "stream",
     "text": [
      "Classification Report:\n",
      "              precision    recall  f1-score   support\n",
      "\n",
      "           0       0.97      1.00      0.98       484\n",
      "           1       0.00      0.00      0.00        16\n",
      "\n",
      "    accuracy                           0.97       500\n",
      "   macro avg       0.48      0.50      0.49       500\n",
      "weighted avg       0.94      0.97      0.95       500\n",
      "\n"
     ]
    },
    {
     "name": "stderr",
     "output_type": "stream",
     "text": [
      "/home/aref/pyenv/lib/python3.11/site-packages/sklearn/metrics/_classification.py:1471: UndefinedMetricWarning: Precision and F-score are ill-defined and being set to 0.0 in labels with no predicted samples. Use `zero_division` parameter to control this behavior.\n",
      "  _warn_prf(average, modifier, msg_start, len(result))\n",
      "/home/aref/pyenv/lib/python3.11/site-packages/sklearn/metrics/_classification.py:1471: UndefinedMetricWarning: Precision and F-score are ill-defined and being set to 0.0 in labels with no predicted samples. Use `zero_division` parameter to control this behavior.\n",
      "  _warn_prf(average, modifier, msg_start, len(result))\n",
      "/home/aref/pyenv/lib/python3.11/site-packages/sklearn/metrics/_classification.py:1471: UndefinedMetricWarning: Precision and F-score are ill-defined and being set to 0.0 in labels with no predicted samples. Use `zero_division` parameter to control this behavior.\n",
      "  _warn_prf(average, modifier, msg_start, len(result))\n"
     ]
    },
    {
     "data": {
      "image/png": "[encoded data removed]",
      "text/plain": [
       "<Figure size 640x480 with 2 Axes>"
      ]
     },
     "metadata": {},
     "output_type": "display_data"
    }
   ],
   "source": [
    "test_model(gun_model, metoo_test_dataloader)"
   ]
  },
  {
   "cell_type": "markdown",
   "metadata": {},
   "source": [
    "### MeToo Model"
   ]
  },
  {
   "cell_type": "markdown",
   "metadata": {},
   "source": [
    "#### Gun Data"
   ]
  },
  {
   "cell_type": "code",
   "execution_count": 43,
   "metadata": {},
   "outputs": [
    {
     "name": "stdout",
     "output_type": "stream",
     "text": [
      "Classification Report:\n",
      "              precision    recall  f1-score   support\n",
      "\n",
      "           0       0.98      1.00      0.99       487\n",
      "           1       1.00      0.23      0.38        13\n",
      "\n",
      "    accuracy                           0.98       500\n",
      "   macro avg       0.99      0.62      0.68       500\n",
      "weighted avg       0.98      0.98      0.97       500\n",
      "\n"
     ]
    },
    {
     "data": {
      "image/png": "[encoded data removed]",
      "text/plain": [
       "<Figure size 640x480 with 2 Axes>"
      ]
     },
     "metadata": {},
     "output_type": "display_data"
    }
   ],
   "source": [
    "test_model(metoo_model, gun_test_dataloader)"
   ]
  },
  {
   "cell_type": "markdown",
   "metadata": {},
   "source": [
    "#### Parenting Data"
   ]
  },
  {
   "cell_type": "code",
   "execution_count": 44,
   "metadata": {},
   "outputs": [
    {
     "name": "stdout",
     "output_type": "stream",
     "text": [
      "Classification Report:\n",
      "              precision    recall  f1-score   support\n",
      "\n",
      "           0       0.52      0.99      0.68       253\n",
      "           1       0.86      0.07      0.13       247\n",
      "\n",
      "    accuracy                           0.54       500\n",
      "   macro avg       0.69      0.53      0.41       500\n",
      "weighted avg       0.69      0.54      0.41       500\n",
      "\n"
     ]
    },
    {
     "data": {
      "image/png": "[encoded data removed]",
      "text/plain": [
       "<Figure size 640x480 with 2 Axes>"
      ]
     },
     "metadata": {},
     "output_type": "display_data"
    }
   ],
   "source": [
    "test_model(metoo_model, parenting_test_dataloader)"
   ]
  }
 ],
 "metadata": {
  "kernelspec": {
   "display_name": "Python 3",
   "language": "python",
   "name": "python3"
  },
  "language_info": {
   "codemirror_mode": {
    "name": "ipython",
    "version": 3
   },
   "file_extension": ".py",
   "mimetype": "text/x-python",
   "name": "python",
   "nbconvert_exporter": "python",
   "pygments_lexer": "ipython3",
   "version": "3.11.6"
  }
 },
 "nbformat": 4,
 "nbformat_minor": 2
}
